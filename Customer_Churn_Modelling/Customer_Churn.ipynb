{
 "cells": [
  {
   "cell_type": "markdown",
   "id": "edee33cb",
   "metadata": {},
   "source": [
    "<h1>Customer Attrition / Churn Model</h1>\n",
    "<h2>Project Details</h2>\n",
    "\n",
    "This project aims to train a machine learning model that best describes the event of <strong>customer churn</strong> in the banking industry, thereby allowing banks to take preemptive measures to combat it by analyzing the factors that contribute the most to churn.\n",
    "\n",
    "It presents a <strong>full machine learning work flow</strong>, using 8 Machine Learning algorithms, use GridSearchCV to tune their parameters and summarize the best of them using their accuracy scores for the validation set. \n"
   ]
  },
  {
   "cell_type": "markdown",
   "id": "8701433a",
   "metadata": {},
   "source": [
    "<font color = 'brown'>\n",
    " CONTENTS:  \n",
    "    \n",
    "   1. [Introduction and Setting Up](#1)\n",
    "       * 1.1 [Summary Information about the variables and their types in the data](#1.1)\n",
    "   2. [Exploratory Data Analysis](#2)\n",
    "       * 2.1 [Basic statistics about the data](#2.1)            \n",
    "       * 2.2 [Visualizations](#2.2)\n",
    "           * 2.2.1 [Correlation matrix heatmap](#2.2.1)\n",
    "           * 2.2.2 [Tenure and Exited](#2.2.2)\n",
    "           * 2.2.3 [Gender versus Exited](#2.2.3)\n",
    "           * 2.2.4 [Age versus Exited](#2.2.4)\n",
    "           * 2.2.5 [Balance versus Survived](#2.2.5)\n",
    "           * 2.2.6 [EstimatedSalary versus Exited](#2.2.6)\n",
    "           * 2.2.7 [Creeditscore versus Exited](#2.2.7)\n",
    "   3. [Data Preprocessing](#3) \n",
    "       * 3.1 [Removing Irrelevant Attributes](#3.1) \n",
    "       * 3.2 [Handling Categorical Variables](#3.2)\n",
    "           * 3.2.1 [Label encoding of gender variable and removing surname](#3.2.1)            \n",
    "           * 3.2.3 [One hot encoding of Geography (Country)](#3.2.2)   \n",
    "       * 3.3 [Splitting the data as train and validation data](#3.3) \n",
    "   4. [Modeling, Model Evaluation and Model Tuning](#4)\n",
    "       * 4.1 [Validation Set Test Accuracy for the default models](#4.1) \n",
    "       * 4.2 [Cross validation accuracy and std of the default models for all the train data](#4.2)    \n",
    "       * 4.3 [Hyperparameter tuning using GridSearchCV](#4.3)   \n",
    "       * 4.4 [Ensembling the best 3 models](#4.4) \n",
    "   4. [Using the models to determine the most important attributes](#5)\n",
    " "
   ]
  },
  {
   "cell_type": "markdown",
   "id": "4af13cd2",
   "metadata": {},
   "source": [
    "# 1. Introduction and Setting Up<a id = '1'></a><br> \n",
    "Loading the data and required libraries and getting a basic understanding of data"
   ]
  },
  {
   "cell_type": "code",
   "execution_count": 96,
   "id": "dbd56c58",
   "metadata": {},
   "outputs": [],
   "source": [
    "import numpy as np\n",
    "import pandas as pd\n",
    "import re\n",
    "\n",
    "# data viz:\n",
    "import matplotlib.pyplot as plt\n",
    "import seaborn as sns\n",
    "\n",
    "# to ignore warnings:\n",
    "import sys\n",
    "if not sys.warnoptions:\n",
    "    import os, warnings\n",
    "    warnings.simplefilter(\"ignore\") \n",
    "    os.environ[\"PYTHONWARNINGS\"] = \"ignore\" \n",
    "\n",
    "#timer\n",
    "import time\n",
    "from contextlib import contextmanager\n",
    "\n",
    "# Importing modelling libraries\n",
    "from sklearn.model_selection import train_test_split,GridSearchCV,cross_val_score,KFold\n",
    "from sklearn.preprocessing import StandardScaler  \n",
    "from sklearn.metrics import accuracy_score\n",
    "from sklearn.neighbors import KNeighborsClassifier\n",
    "from sklearn.discriminant_analysis import LinearDiscriminantAnalysis\n",
    "from sklearn.linear_model import LogisticRegression\n",
    "from sklearn.svm import SVC\n",
    "from sklearn.naive_bayes import GaussianNB\n",
    "from sklearn.tree import DecisionTreeClassifier\n",
    "from sklearn.ensemble import RandomForestClassifier,GradientBoostingClassifier,VotingClassifier,BaggingClassifier\n",
    "from xgboost import XGBClassifier\n",
    "from lightgbm import LGBMClassifier\n",
    "from catboost import CatBoostClassifier\n",
    "from sklearn.neural_network import MLPClassifier\n",
    "from sklearn.calibration import CalibratedClassifierCV\n",
    "from sklearn.preprocessing import OneHotEncoder\n",
    "pd.options.display.float_format = \"{:,.2f}\".format\n",
    "\n",
    "#display all columns:\n",
    "pd.set_option('display.max_columns', None)"
   ]
  },
  {
   "cell_type": "code",
   "execution_count": 13,
   "id": "f5051ed5",
   "metadata": {},
   "outputs": [],
   "source": [
    "dataFrame = pd.read_csv('.\\Churn_Modelling.csv')"
   ]
  },
  {
   "cell_type": "code",
   "execution_count": 16,
   "id": "92bcf4da",
   "metadata": {},
   "outputs": [
    {
     "data": {
      "text/html": [
       "<div>\n",
       "<style scoped>\n",
       "    .dataframe tbody tr th:only-of-type {\n",
       "        vertical-align: middle;\n",
       "    }\n",
       "\n",
       "    .dataframe tbody tr th {\n",
       "        vertical-align: top;\n",
       "    }\n",
       "\n",
       "    .dataframe thead th {\n",
       "        text-align: right;\n",
       "    }\n",
       "</style>\n",
       "<table border=\"1\" class=\"dataframe\">\n",
       "  <thead>\n",
       "    <tr style=\"text-align: right;\">\n",
       "      <th></th>\n",
       "      <th>RowNumber</th>\n",
       "      <th>CustomerId</th>\n",
       "      <th>Surname</th>\n",
       "      <th>CreditScore</th>\n",
       "      <th>Geography</th>\n",
       "      <th>Gender</th>\n",
       "      <th>Age</th>\n",
       "      <th>Tenure</th>\n",
       "      <th>Balance</th>\n",
       "      <th>NumOfProducts</th>\n",
       "      <th>HasCrCard</th>\n",
       "      <th>IsActiveMember</th>\n",
       "      <th>EstimatedSalary</th>\n",
       "      <th>Exited</th>\n",
       "    </tr>\n",
       "  </thead>\n",
       "  <tbody>\n",
       "    <tr>\n",
       "      <th>0</th>\n",
       "      <td>1</td>\n",
       "      <td>15634602</td>\n",
       "      <td>Hargrave</td>\n",
       "      <td>619</td>\n",
       "      <td>France</td>\n",
       "      <td>Female</td>\n",
       "      <td>42</td>\n",
       "      <td>2</td>\n",
       "      <td>0.00</td>\n",
       "      <td>1</td>\n",
       "      <td>1</td>\n",
       "      <td>1</td>\n",
       "      <td>101,348.88</td>\n",
       "      <td>1</td>\n",
       "    </tr>\n",
       "    <tr>\n",
       "      <th>1</th>\n",
       "      <td>2</td>\n",
       "      <td>15647311</td>\n",
       "      <td>Hill</td>\n",
       "      <td>608</td>\n",
       "      <td>Spain</td>\n",
       "      <td>Female</td>\n",
       "      <td>41</td>\n",
       "      <td>1</td>\n",
       "      <td>83,807.86</td>\n",
       "      <td>1</td>\n",
       "      <td>0</td>\n",
       "      <td>1</td>\n",
       "      <td>112,542.58</td>\n",
       "      <td>0</td>\n",
       "    </tr>\n",
       "    <tr>\n",
       "      <th>2</th>\n",
       "      <td>3</td>\n",
       "      <td>15619304</td>\n",
       "      <td>Onio</td>\n",
       "      <td>502</td>\n",
       "      <td>France</td>\n",
       "      <td>Female</td>\n",
       "      <td>42</td>\n",
       "      <td>8</td>\n",
       "      <td>159,660.80</td>\n",
       "      <td>3</td>\n",
       "      <td>1</td>\n",
       "      <td>0</td>\n",
       "      <td>113,931.57</td>\n",
       "      <td>1</td>\n",
       "    </tr>\n",
       "    <tr>\n",
       "      <th>3</th>\n",
       "      <td>4</td>\n",
       "      <td>15701354</td>\n",
       "      <td>Boni</td>\n",
       "      <td>699</td>\n",
       "      <td>France</td>\n",
       "      <td>Female</td>\n",
       "      <td>39</td>\n",
       "      <td>1</td>\n",
       "      <td>0.00</td>\n",
       "      <td>2</td>\n",
       "      <td>0</td>\n",
       "      <td>0</td>\n",
       "      <td>93,826.63</td>\n",
       "      <td>0</td>\n",
       "    </tr>\n",
       "    <tr>\n",
       "      <th>4</th>\n",
       "      <td>5</td>\n",
       "      <td>15737888</td>\n",
       "      <td>Mitchell</td>\n",
       "      <td>850</td>\n",
       "      <td>Spain</td>\n",
       "      <td>Female</td>\n",
       "      <td>43</td>\n",
       "      <td>2</td>\n",
       "      <td>125,510.82</td>\n",
       "      <td>1</td>\n",
       "      <td>1</td>\n",
       "      <td>1</td>\n",
       "      <td>79,084.10</td>\n",
       "      <td>0</td>\n",
       "    </tr>\n",
       "  </tbody>\n",
       "</table>\n",
       "</div>"
      ],
      "text/plain": [
       "   RowNumber  CustomerId   Surname  CreditScore Geography  Gender  Age  \\\n",
       "0          1    15634602  Hargrave          619    France  Female   42   \n",
       "1          2    15647311      Hill          608     Spain  Female   41   \n",
       "2          3    15619304      Onio          502    France  Female   42   \n",
       "3          4    15701354      Boni          699    France  Female   39   \n",
       "4          5    15737888  Mitchell          850     Spain  Female   43   \n",
       "\n",
       "   Tenure    Balance  NumOfProducts  HasCrCard  IsActiveMember  \\\n",
       "0       2       0.00              1          1               1   \n",
       "1       1  83,807.86              1          0               1   \n",
       "2       8 159,660.80              3          1               0   \n",
       "3       1       0.00              2          0               0   \n",
       "4       2 125,510.82              1          1               1   \n",
       "\n",
       "   EstimatedSalary  Exited  \n",
       "0       101,348.88       1  \n",
       "1       112,542.58       0  \n",
       "2       113,931.57       1  \n",
       "3        93,826.63       0  \n",
       "4        79,084.10       0  "
      ]
     },
     "execution_count": 16,
     "metadata": {},
     "output_type": "execute_result"
    }
   ],
   "source": [
    "dataFrame.head()"
   ]
  },
  {
   "cell_type": "code",
   "execution_count": 19,
   "id": "3e652613",
   "metadata": {},
   "outputs": [
    {
     "data": {
      "text/plain": [
       "(10000, 14)"
      ]
     },
     "execution_count": 19,
     "metadata": {},
     "output_type": "execute_result"
    }
   ],
   "source": [
    "dataFrame.shape"
   ]
  },
  {
   "cell_type": "markdown",
   "id": "50123459",
   "metadata": {},
   "source": [
    "## 1.1 Summary Information about the variables and their types in the data <a id = '1.1'></a><br>"
   ]
  },
  {
   "cell_type": "markdown",
   "id": "7e15a050",
   "metadata": {},
   "source": [
    "* <strong>Surname</strong>          : The surname of the customer\n",
    "* <strong>CreditScore</strong>      : The credit score of the customer\n",
    "* <strong>Geography</strong>        : The country of the customer(Germany/France/Spain)\n",
    "* <strong>Gender</strong>           : The gender of the customer (Female/Male)\n",
    "* <strong>Age</strong>              : The age of the customer  \n",
    "* <strong>Tenure</strong>           : The customer's number of years in the bank \n",
    "* <strong>Balance</strong>          : The customer's account balance\n",
    "* <strong>NumOfProducts</strong>    : The number of bank products that the customer uses \n",
    "* <strong>HasCrCard</strong>        : Does the customer have a card? (0:No, 1:Yes) \n",
    "* <strong>IsActiveMember</strong>   : Does the customer have an active mebership (0:No, 1:Yes) \n",
    "* <strong>EstimatedSalary</strong>  : The estimated salary of the customer\n",
    "* <strong>Exited</strong>           : Churned or not? (0:No, 1:Yes) "
   ]
  },
  {
   "cell_type": "markdown",
   "id": "4f3b2c7e",
   "metadata": {},
   "source": [
    "# 2. Exploratory Data Analysis <a id = '2'></a><br> "
   ]
  },
  {
   "cell_type": "markdown",
   "id": "c651e10c",
   "metadata": {},
   "source": [
    "## 2.1 Basic summary statistics about the data <a id = '2.1'></a><br>"
   ]
  },
  {
   "cell_type": "code",
   "execution_count": 21,
   "id": "d5e10238",
   "metadata": {},
   "outputs": [
    {
     "name": "stdout",
     "output_type": "stream",
     "text": [
      "<class 'pandas.core.frame.DataFrame'>\n",
      "RangeIndex: 10000 entries, 0 to 9999\n",
      "Data columns (total 14 columns):\n",
      " #   Column           Non-Null Count  Dtype  \n",
      "---  ------           --------------  -----  \n",
      " 0   RowNumber        10000 non-null  int64  \n",
      " 1   CustomerId       10000 non-null  int64  \n",
      " 2   Surname          10000 non-null  object \n",
      " 3   CreditScore      10000 non-null  int64  \n",
      " 4   Geography        10000 non-null  object \n",
      " 5   Gender           10000 non-null  object \n",
      " 6   Age              10000 non-null  int64  \n",
      " 7   Tenure           10000 non-null  int64  \n",
      " 8   Balance          10000 non-null  float64\n",
      " 9   NumOfProducts    10000 non-null  int64  \n",
      " 10  HasCrCard        10000 non-null  int64  \n",
      " 11  IsActiveMember   10000 non-null  int64  \n",
      " 12  EstimatedSalary  10000 non-null  float64\n",
      " 13  Exited           10000 non-null  int64  \n",
      "dtypes: float64(2), int64(9), object(3)\n",
      "memory usage: 1.1+ MB\n"
     ]
    }
   ],
   "source": [
    "dataFrame.info()"
   ]
  },
  {
   "cell_type": "code",
   "execution_count": 23,
   "id": "fdd0583d",
   "metadata": {},
   "outputs": [
    {
     "data": {
      "text/html": [
       "<div>\n",
       "<style scoped>\n",
       "    .dataframe tbody tr th:only-of-type {\n",
       "        vertical-align: middle;\n",
       "    }\n",
       "\n",
       "    .dataframe tbody tr th {\n",
       "        vertical-align: top;\n",
       "    }\n",
       "\n",
       "    .dataframe thead th {\n",
       "        text-align: right;\n",
       "    }\n",
       "</style>\n",
       "<table border=\"1\" class=\"dataframe\">\n",
       "  <thead>\n",
       "    <tr style=\"text-align: right;\">\n",
       "      <th></th>\n",
       "      <th>count</th>\n",
       "      <th>mean</th>\n",
       "      <th>std</th>\n",
       "      <th>min</th>\n",
       "      <th>25%</th>\n",
       "      <th>50%</th>\n",
       "      <th>75%</th>\n",
       "      <th>max</th>\n",
       "    </tr>\n",
       "  </thead>\n",
       "  <tbody>\n",
       "    <tr>\n",
       "      <th>RowNumber</th>\n",
       "      <td>10,000.00</td>\n",
       "      <td>5,000.50</td>\n",
       "      <td>2,886.90</td>\n",
       "      <td>1.00</td>\n",
       "      <td>2,500.75</td>\n",
       "      <td>5,000.50</td>\n",
       "      <td>7,500.25</td>\n",
       "      <td>10,000.00</td>\n",
       "    </tr>\n",
       "    <tr>\n",
       "      <th>CustomerId</th>\n",
       "      <td>10,000.00</td>\n",
       "      <td>15,690,940.57</td>\n",
       "      <td>71,936.19</td>\n",
       "      <td>15,565,701.00</td>\n",
       "      <td>15,628,528.25</td>\n",
       "      <td>15,690,738.00</td>\n",
       "      <td>15,753,233.75</td>\n",
       "      <td>15,815,690.00</td>\n",
       "    </tr>\n",
       "    <tr>\n",
       "      <th>CreditScore</th>\n",
       "      <td>10,000.00</td>\n",
       "      <td>650.53</td>\n",
       "      <td>96.65</td>\n",
       "      <td>350.00</td>\n",
       "      <td>584.00</td>\n",
       "      <td>652.00</td>\n",
       "      <td>718.00</td>\n",
       "      <td>850.00</td>\n",
       "    </tr>\n",
       "    <tr>\n",
       "      <th>Age</th>\n",
       "      <td>10,000.00</td>\n",
       "      <td>38.92</td>\n",
       "      <td>10.49</td>\n",
       "      <td>18.00</td>\n",
       "      <td>32.00</td>\n",
       "      <td>37.00</td>\n",
       "      <td>44.00</td>\n",
       "      <td>92.00</td>\n",
       "    </tr>\n",
       "    <tr>\n",
       "      <th>Tenure</th>\n",
       "      <td>10,000.00</td>\n",
       "      <td>5.01</td>\n",
       "      <td>2.89</td>\n",
       "      <td>0.00</td>\n",
       "      <td>3.00</td>\n",
       "      <td>5.00</td>\n",
       "      <td>7.00</td>\n",
       "      <td>10.00</td>\n",
       "    </tr>\n",
       "    <tr>\n",
       "      <th>Balance</th>\n",
       "      <td>10,000.00</td>\n",
       "      <td>76,485.89</td>\n",
       "      <td>62,397.41</td>\n",
       "      <td>0.00</td>\n",
       "      <td>0.00</td>\n",
       "      <td>97,198.54</td>\n",
       "      <td>127,644.24</td>\n",
       "      <td>250,898.09</td>\n",
       "    </tr>\n",
       "    <tr>\n",
       "      <th>NumOfProducts</th>\n",
       "      <td>10,000.00</td>\n",
       "      <td>1.53</td>\n",
       "      <td>0.58</td>\n",
       "      <td>1.00</td>\n",
       "      <td>1.00</td>\n",
       "      <td>1.00</td>\n",
       "      <td>2.00</td>\n",
       "      <td>4.00</td>\n",
       "    </tr>\n",
       "    <tr>\n",
       "      <th>HasCrCard</th>\n",
       "      <td>10,000.00</td>\n",
       "      <td>0.71</td>\n",
       "      <td>0.46</td>\n",
       "      <td>0.00</td>\n",
       "      <td>0.00</td>\n",
       "      <td>1.00</td>\n",
       "      <td>1.00</td>\n",
       "      <td>1.00</td>\n",
       "    </tr>\n",
       "    <tr>\n",
       "      <th>IsActiveMember</th>\n",
       "      <td>10,000.00</td>\n",
       "      <td>0.52</td>\n",
       "      <td>0.50</td>\n",
       "      <td>0.00</td>\n",
       "      <td>0.00</td>\n",
       "      <td>1.00</td>\n",
       "      <td>1.00</td>\n",
       "      <td>1.00</td>\n",
       "    </tr>\n",
       "    <tr>\n",
       "      <th>EstimatedSalary</th>\n",
       "      <td>10,000.00</td>\n",
       "      <td>100,090.24</td>\n",
       "      <td>57,510.49</td>\n",
       "      <td>11.58</td>\n",
       "      <td>51,002.11</td>\n",
       "      <td>100,193.91</td>\n",
       "      <td>149,388.25</td>\n",
       "      <td>199,992.48</td>\n",
       "    </tr>\n",
       "    <tr>\n",
       "      <th>Exited</th>\n",
       "      <td>10,000.00</td>\n",
       "      <td>0.20</td>\n",
       "      <td>0.40</td>\n",
       "      <td>0.00</td>\n",
       "      <td>0.00</td>\n",
       "      <td>0.00</td>\n",
       "      <td>0.00</td>\n",
       "      <td>1.00</td>\n",
       "    </tr>\n",
       "  </tbody>\n",
       "</table>\n",
       "</div>"
      ],
      "text/plain": [
       "                    count          mean       std           min           25%  \\\n",
       "RowNumber       10,000.00      5,000.50  2,886.90          1.00      2,500.75   \n",
       "CustomerId      10,000.00 15,690,940.57 71,936.19 15,565,701.00 15,628,528.25   \n",
       "CreditScore     10,000.00        650.53     96.65        350.00        584.00   \n",
       "Age             10,000.00         38.92     10.49         18.00         32.00   \n",
       "Tenure          10,000.00          5.01      2.89          0.00          3.00   \n",
       "Balance         10,000.00     76,485.89 62,397.41          0.00          0.00   \n",
       "NumOfProducts   10,000.00          1.53      0.58          1.00          1.00   \n",
       "HasCrCard       10,000.00          0.71      0.46          0.00          0.00   \n",
       "IsActiveMember  10,000.00          0.52      0.50          0.00          0.00   \n",
       "EstimatedSalary 10,000.00    100,090.24 57,510.49         11.58     51,002.11   \n",
       "Exited          10,000.00          0.20      0.40          0.00          0.00   \n",
       "\n",
       "                          50%           75%           max  \n",
       "RowNumber            5,000.50      7,500.25     10,000.00  \n",
       "CustomerId      15,690,738.00 15,753,233.75 15,815,690.00  \n",
       "CreditScore            652.00        718.00        850.00  \n",
       "Age                     37.00         44.00         92.00  \n",
       "Tenure                   5.00          7.00         10.00  \n",
       "Balance             97,198.54    127,644.24    250,898.09  \n",
       "NumOfProducts            1.00          2.00          4.00  \n",
       "HasCrCard                1.00          1.00          1.00  \n",
       "IsActiveMember           1.00          1.00          1.00  \n",
       "EstimatedSalary    100,193.91    149,388.25    199,992.48  \n",
       "Exited                   0.00          0.00          1.00  "
      ]
     },
     "execution_count": 23,
     "metadata": {},
     "output_type": "execute_result"
    }
   ],
   "source": [
    "dataFrame.describe().T"
   ]
  },
  {
   "cell_type": "code",
   "execution_count": 34,
   "id": "2078dc86",
   "metadata": {},
   "outputs": [
    {
     "name": "stdout",
     "output_type": "stream",
     "text": [
      "           Mean_Exited\n",
      "Geography             \n",
      "France            0.16\n",
      "Germany           0.32\n",
      "Spain             0.17\n",
      "-------------------------\n",
      "        Mean_Exited\n",
      "Gender             \n",
      "Female         0.25\n",
      "Male           0.16\n",
      "-------------------------\n",
      "        Mean_Exited\n",
      "Tenure             \n",
      "0              0.23\n",
      "1              0.22\n",
      "2              0.19\n",
      "3              0.21\n",
      "4              0.21\n",
      "5              0.21\n",
      "6              0.20\n",
      "7              0.17\n",
      "8              0.19\n",
      "9              0.22\n",
      "10             0.21\n",
      "-------------------------\n",
      "               Mean_Exited\n",
      "NumOfProducts             \n",
      "1                     0.28\n",
      "2                     0.08\n",
      "3                     0.83\n",
      "4                     1.00\n",
      "-------------------------\n",
      "           Mean_Exited\n",
      "HasCrCard             \n",
      "0                 0.21\n",
      "1                 0.20\n",
      "-------------------------\n",
      "                Mean_Exited\n",
      "IsActiveMember             \n",
      "0                      0.27\n",
      "1                      0.14\n",
      "-------------------------\n"
     ]
    }
   ],
   "source": [
    "    for attribute in dataFrame:\n",
    "        if attribute != 'Exited':\n",
    "            if len(list(dataFrame[attribute].unique())) <= 11:\n",
    "                    print(pd.DataFrame({'Mean_Exited': dataFrame.groupby(attribute)['Exited'].mean()}), end = \"\\n\"+\"-\"*25+\"\\n\" )"
   ]
  },
  {
   "cell_type": "markdown",
   "id": "0bfb7dbd",
   "metadata": {},
   "source": [
    "## 2.2 Visualizations <a id = '2.2'></a><br> \n",
    "This section is for illustrating the relationships between attributes using visualization tools."
   ]
  },
  {
   "cell_type": "markdown",
   "id": "602634f7",
   "metadata": {},
   "source": [
    "### 2.2.1 Correlation matrix <a id = '2.2.1'></a><br>"
   ]
  },
  {
   "cell_type": "code",
   "execution_count": 53,
   "id": "4f812987",
   "metadata": {},
   "outputs": [
    {
     "data": {
      "image/png": "[encoded data removed]",
      "text/plain": [
       "<Figure size 1200x600 with 2 Axes>"
      ]
     },
     "metadata": {},
     "output_type": "display_data"
    }
   ],
   "source": [
    "# Select numeric columns for correlation matrix\n",
    "columns_to_select = list(df.loc[:, 'Age':'Exited'].columns) + ['CreditScore']\n",
    "\n",
    "selected_columns = df[columns_to_select]\n",
    "\n",
    "\n",
    "fig, ax = plt.subplots(figsize=(12,6)) \n",
    "sns.heatmap(dataFrame.loc[:,columns_to_select].corr(), annot = True, fmt = \".2f\", linewidths=0.5, ax=ax, cmap = 'RdPu') \n",
    "plt.show()"
   ]
  },
  {
   "cell_type": "markdown",
   "id": "538abca7",
   "metadata": {},
   "source": [
    "<strong>We can see that none of the attribute pairs have particularly high correlation</strong>\n"
   ]
  },
  {
   "cell_type": "markdown",
   "id": "abbfd7d6",
   "metadata": {},
   "source": [
    "### 2.2.2 Tenure and Exited <a id = '2.2.2'></a><br>       "
   ]
  },
  {
   "cell_type": "code",
   "execution_count": 59,
   "id": "37fc1571",
   "metadata": {},
   "outputs": [
    {
     "data": {
      "image/png": "[encoded data removed]",
      "text/plain": [
       "<Figure size 500x500 with 1 Axes>"
      ]
     },
     "metadata": {},
     "output_type": "display_data"
    }
   ],
   "source": [
    "g= sns.catplot(x = \"Tenure\", y = \"Exited\", data = dataFrame, kind = \"bar\")\n",
    "g.set_ylabels(\"Churn Probability\")\n",
    "plt.show()"
   ]
  },
  {
   "cell_type": "markdown",
   "id": "d0341d5c",
   "metadata": {},
   "source": [
    " ### 2.2.3 Gender and Exited <a id = '2.2.3'></a><br>       "
   ]
  },
  {
   "cell_type": "code",
   "execution_count": 61,
   "id": "e187f94b",
   "metadata": {},
   "outputs": [
    {
     "data": {
      "image/png": "[encoded data removed]",
      "text/plain": [
       "<Figure size 500x500 with 1 Axes>"
      ]
     },
     "metadata": {},
     "output_type": "display_data"
    }
   ],
   "source": [
    "g= sns.catplot(x = \"Gender\", y = \"Exited\", data = dataFrame, kind = \"bar\")\n",
    "g.set_ylabels(\"Churn Probability\")\n",
    "plt.show()"
   ]
  },
  {
   "cell_type": "markdown",
   "id": "bc35eb58",
   "metadata": {},
   "source": [
    "We see that female customers exit more"
   ]
  },
  {
   "cell_type": "markdown",
   "id": "a8762abd",
   "metadata": {},
   "source": [
    " ### 2.2.4 Age versus Exited <a id = '2.2.4'></a><br>   "
   ]
  },
  {
   "cell_type": "code",
   "execution_count": 62,
   "id": "61815c71",
   "metadata": {},
   "outputs": [
    {
     "data": {
      "image/png": "[encoded data removed]",
      "text/plain": [
       "<Figure size 600x300 with 2 Axes>"
      ]
     },
     "metadata": {},
     "output_type": "display_data"
    }
   ],
   "source": [
    "g= sns.FacetGrid(df, col = \"Exited\")\n",
    "g.map(sns.distplot, \"Age\", bins = 25)\n",
    "plt.show()"
   ]
  },
  {
   "cell_type": "markdown",
   "id": "645d55d7",
   "metadata": {},
   "source": [
    " ### 2.2.5 Balance versus Exited <a id = '2.2.5'></a><br>   "
   ]
  },
  {
   "cell_type": "code",
   "execution_count": 63,
   "id": "c1d0e89d",
   "metadata": {},
   "outputs": [
    {
     "data": {
      "image/png": "[encoded data removed]",
      "text/plain": [
       "<Figure size 600x300 with 2 Axes>"
      ]
     },
     "metadata": {},
     "output_type": "display_data"
    }
   ],
   "source": [
    "g= sns.FacetGrid(df, col = \"Exited\")\n",
    "g.map(sns.distplot, \"Balance\", bins = 25)\n",
    "plt.show()"
   ]
  },
  {
   "cell_type": "markdown",
   "id": "b132362b",
   "metadata": {},
   "source": [
    " ### 2.2.6 EstimatedSalary versus Exited <a id = '2.2.6'></a><br>   "
   ]
  },
  {
   "cell_type": "code",
   "execution_count": 65,
   "id": "b5c0a127",
   "metadata": {},
   "outputs": [
    {
     "data": {
      "image/png": "[encoded data removed]",
      "text/plain": [
       "<Figure size 600x300 with 2 Axes>"
      ]
     },
     "metadata": {},
     "output_type": "display_data"
    }
   ],
   "source": [
    "g= sns.FacetGrid(df, col = \"Exited\")\n",
    "g.map(sns.distplot, \"EstimatedSalary\", bins = 25)\n",
    "plt.show()"
   ]
  },
  {
   "cell_type": "markdown",
   "id": "ec40428f",
   "metadata": {},
   "source": [
    " Although the they are similar, there seems to be slightly higher salaries for the exited customers."
   ]
  },
  {
   "cell_type": "markdown",
   "id": "cd934c77",
   "metadata": {},
   "source": [
    " ## 2.2.7 Creeditscore versus Exited <a id = '2.2.7'></a><br>   "
   ]
  },
  {
   "cell_type": "code",
   "execution_count": 66,
   "id": "e3dac039",
   "metadata": {},
   "outputs": [
    {
     "data": {
      "image/png": "[encoded data removed]",
      "text/plain": [
       "<Figure size 600x300 with 2 Axes>"
      ]
     },
     "metadata": {},
     "output_type": "display_data"
    }
   ],
   "source": [
    "g= sns.FacetGrid(df, col = \"Exited\")\n",
    "g.map(sns.distplot, \"CreditScore\", bins = 25)\n",
    "plt.show()"
   ]
  },
  {
   "cell_type": "markdown",
   "id": "dcd46309",
   "metadata": {},
   "source": [
    "# 3. Data Preprocessing <a id = '3'></a><br> \n",
    "\n"
   ]
  },
  {
   "cell_type": "markdown",
   "id": "92313c1d",
   "metadata": {},
   "source": [
    "No missing values as evident from section [2.1](#2.1) allows us to proceed without imputing."
   ]
  },
  {
   "cell_type": "markdown",
   "id": "049962eb",
   "metadata": {},
   "source": [
    "## 3.1 Removing Irrelevant Attributes <a id = '3.1'></a><br>\n"
   ]
  },
  {
   "cell_type": "markdown",
   "id": "e590f823",
   "metadata": {},
   "source": [
    "We see that the 'Surname', 'CustomerId', and 'RowNumber' attributes are completely irrelevant to our machine learning model and would only lead to underperforming algorithms."
   ]
  },
  {
   "cell_type": "code",
   "execution_count": 116,
   "id": "9862b6f6",
   "metadata": {},
   "outputs": [
    {
     "data": {
      "text/html": [
       "<div>\n",
       "<style scoped>\n",
       "    .dataframe tbody tr th:only-of-type {\n",
       "        vertical-align: middle;\n",
       "    }\n",
       "\n",
       "    .dataframe tbody tr th {\n",
       "        vertical-align: top;\n",
       "    }\n",
       "\n",
       "    .dataframe thead th {\n",
       "        text-align: right;\n",
       "    }\n",
       "</style>\n",
       "<table border=\"1\" class=\"dataframe\">\n",
       "  <thead>\n",
       "    <tr style=\"text-align: right;\">\n",
       "      <th></th>\n",
       "      <th>CustomerId</th>\n",
       "      <th>CreditScore</th>\n",
       "      <th>Geography</th>\n",
       "      <th>Gender</th>\n",
       "      <th>Age</th>\n",
       "      <th>Tenure</th>\n",
       "      <th>Balance</th>\n",
       "      <th>NumOfProducts</th>\n",
       "      <th>HasCrCard</th>\n",
       "      <th>IsActiveMember</th>\n",
       "      <th>EstimatedSalary</th>\n",
       "      <th>Exited</th>\n",
       "    </tr>\n",
       "  </thead>\n",
       "  <tbody>\n",
       "    <tr>\n",
       "      <th>0</th>\n",
       "      <td>15634602</td>\n",
       "      <td>619</td>\n",
       "      <td>France</td>\n",
       "      <td>Female</td>\n",
       "      <td>42</td>\n",
       "      <td>2</td>\n",
       "      <td>0.00</td>\n",
       "      <td>1</td>\n",
       "      <td>1</td>\n",
       "      <td>1</td>\n",
       "      <td>101,348.88</td>\n",
       "      <td>1</td>\n",
       "    </tr>\n",
       "    <tr>\n",
       "      <th>1</th>\n",
       "      <td>15647311</td>\n",
       "      <td>608</td>\n",
       "      <td>Spain</td>\n",
       "      <td>Female</td>\n",
       "      <td>41</td>\n",
       "      <td>1</td>\n",
       "      <td>83,807.86</td>\n",
       "      <td>1</td>\n",
       "      <td>0</td>\n",
       "      <td>1</td>\n",
       "      <td>112,542.58</td>\n",
       "      <td>0</td>\n",
       "    </tr>\n",
       "    <tr>\n",
       "      <th>2</th>\n",
       "      <td>15619304</td>\n",
       "      <td>502</td>\n",
       "      <td>France</td>\n",
       "      <td>Female</td>\n",
       "      <td>42</td>\n",
       "      <td>8</td>\n",
       "      <td>159,660.80</td>\n",
       "      <td>3</td>\n",
       "      <td>1</td>\n",
       "      <td>0</td>\n",
       "      <td>113,931.57</td>\n",
       "      <td>1</td>\n",
       "    </tr>\n",
       "    <tr>\n",
       "      <th>3</th>\n",
       "      <td>15701354</td>\n",
       "      <td>699</td>\n",
       "      <td>France</td>\n",
       "      <td>Female</td>\n",
       "      <td>39</td>\n",
       "      <td>1</td>\n",
       "      <td>0.00</td>\n",
       "      <td>2</td>\n",
       "      <td>0</td>\n",
       "      <td>0</td>\n",
       "      <td>93,826.63</td>\n",
       "      <td>0</td>\n",
       "    </tr>\n",
       "    <tr>\n",
       "      <th>4</th>\n",
       "      <td>15737888</td>\n",
       "      <td>850</td>\n",
       "      <td>Spain</td>\n",
       "      <td>Female</td>\n",
       "      <td>43</td>\n",
       "      <td>2</td>\n",
       "      <td>125,510.82</td>\n",
       "      <td>1</td>\n",
       "      <td>1</td>\n",
       "      <td>1</td>\n",
       "      <td>79,084.10</td>\n",
       "      <td>0</td>\n",
       "    </tr>\n",
       "    <tr>\n",
       "      <th>...</th>\n",
       "      <td>...</td>\n",
       "      <td>...</td>\n",
       "      <td>...</td>\n",
       "      <td>...</td>\n",
       "      <td>...</td>\n",
       "      <td>...</td>\n",
       "      <td>...</td>\n",
       "      <td>...</td>\n",
       "      <td>...</td>\n",
       "      <td>...</td>\n",
       "      <td>...</td>\n",
       "      <td>...</td>\n",
       "    </tr>\n",
       "    <tr>\n",
       "      <th>9995</th>\n",
       "      <td>15606229</td>\n",
       "      <td>771</td>\n",
       "      <td>France</td>\n",
       "      <td>Male</td>\n",
       "      <td>39</td>\n",
       "      <td>5</td>\n",
       "      <td>0.00</td>\n",
       "      <td>2</td>\n",
       "      <td>1</td>\n",
       "      <td>0</td>\n",
       "      <td>96,270.64</td>\n",
       "      <td>0</td>\n",
       "    </tr>\n",
       "    <tr>\n",
       "      <th>9996</th>\n",
       "      <td>15569892</td>\n",
       "      <td>516</td>\n",
       "      <td>France</td>\n",
       "      <td>Male</td>\n",
       "      <td>35</td>\n",
       "      <td>10</td>\n",
       "      <td>57,369.61</td>\n",
       "      <td>1</td>\n",
       "      <td>1</td>\n",
       "      <td>1</td>\n",
       "      <td>101,699.77</td>\n",
       "      <td>0</td>\n",
       "    </tr>\n",
       "    <tr>\n",
       "      <th>9997</th>\n",
       "      <td>15584532</td>\n",
       "      <td>709</td>\n",
       "      <td>France</td>\n",
       "      <td>Female</td>\n",
       "      <td>36</td>\n",
       "      <td>7</td>\n",
       "      <td>0.00</td>\n",
       "      <td>1</td>\n",
       "      <td>0</td>\n",
       "      <td>1</td>\n",
       "      <td>42,085.58</td>\n",
       "      <td>1</td>\n",
       "    </tr>\n",
       "    <tr>\n",
       "      <th>9998</th>\n",
       "      <td>15682355</td>\n",
       "      <td>772</td>\n",
       "      <td>Germany</td>\n",
       "      <td>Male</td>\n",
       "      <td>42</td>\n",
       "      <td>3</td>\n",
       "      <td>75,075.31</td>\n",
       "      <td>2</td>\n",
       "      <td>1</td>\n",
       "      <td>0</td>\n",
       "      <td>92,888.52</td>\n",
       "      <td>1</td>\n",
       "    </tr>\n",
       "    <tr>\n",
       "      <th>9999</th>\n",
       "      <td>15628319</td>\n",
       "      <td>792</td>\n",
       "      <td>France</td>\n",
       "      <td>Female</td>\n",
       "      <td>28</td>\n",
       "      <td>4</td>\n",
       "      <td>130,142.79</td>\n",
       "      <td>1</td>\n",
       "      <td>1</td>\n",
       "      <td>0</td>\n",
       "      <td>38,190.78</td>\n",
       "      <td>0</td>\n",
       "    </tr>\n",
       "  </tbody>\n",
       "</table>\n",
       "<p>10000 rows × 12 columns</p>\n",
       "</div>"
      ],
      "text/plain": [
       "      CustomerId  CreditScore Geography  Gender  Age  Tenure    Balance  \\\n",
       "0       15634602          619    France  Female   42       2       0.00   \n",
       "1       15647311          608     Spain  Female   41       1  83,807.86   \n",
       "2       15619304          502    France  Female   42       8 159,660.80   \n",
       "3       15701354          699    France  Female   39       1       0.00   \n",
       "4       15737888          850     Spain  Female   43       2 125,510.82   \n",
       "...          ...          ...       ...     ...  ...     ...        ...   \n",
       "9995    15606229          771    France    Male   39       5       0.00   \n",
       "9996    15569892          516    France    Male   35      10  57,369.61   \n",
       "9997    15584532          709    France  Female   36       7       0.00   \n",
       "9998    15682355          772   Germany    Male   42       3  75,075.31   \n",
       "9999    15628319          792    France  Female   28       4 130,142.79   \n",
       "\n",
       "      NumOfProducts  HasCrCard  IsActiveMember  EstimatedSalary  Exited  \n",
       "0                 1          1               1       101,348.88       1  \n",
       "1                 1          0               1       112,542.58       0  \n",
       "2                 3          1               0       113,931.57       1  \n",
       "3                 2          0               0        93,826.63       0  \n",
       "4                 1          1               1        79,084.10       0  \n",
       "...             ...        ...             ...              ...     ...  \n",
       "9995              2          1               0        96,270.64       0  \n",
       "9996              1          1               1       101,699.77       0  \n",
       "9997              1          0               1        42,085.58       1  \n",
       "9998              2          1               0        92,888.52       1  \n",
       "9999              1          1               0        38,190.78       0  \n",
       "\n",
       "[10000 rows x 12 columns]"
      ]
     },
     "execution_count": 116,
     "metadata": {},
     "output_type": "execute_result"
    }
   ],
   "source": [
    "df = dataFrame.drop(columns = ['Surname', 'RowNumber'], axis = 1)\n",
    "df"
   ]
  },
  {
   "cell_type": "markdown",
   "id": "554a7254",
   "metadata": {},
   "source": [
    "## 3.2 Handling Categorical Variables <a id = '3.2'></a><br>"
   ]
  },
  {
   "cell_type": "markdown",
   "id": "7c899c72",
   "metadata": {},
   "source": [
    "### 3.2.1 Label encoding of gender attribute <a id = '3.2.1'></a><br>"
   ]
  },
  {
   "cell_type": "code",
   "execution_count": 117,
   "id": "a550fb11",
   "metadata": {},
   "outputs": [],
   "source": [
    "for df in [df]:\n",
    "    df[\"Gender\"]=df[\"Gender\"].map(lambda x: 0 if x=='Female' else 1)"
   ]
  },
  {
   "cell_type": "markdown",
   "id": "d76cb629",
   "metadata": {},
   "source": [
    "### 3.2.2 One hot encoding of Geography (Country) <a id = '3.2.2'></a><br>"
   ]
  },
  {
   "cell_type": "code",
   "execution_count": 118,
   "id": "f24839a5",
   "metadata": {},
   "outputs": [],
   "source": [
    "encoder = OneHotEncoder(drop='first', sparse=False)"
   ]
  },
  {
   "cell_type": "code",
   "execution_count": 119,
   "id": "fd200ec0",
   "metadata": {},
   "outputs": [
    {
     "data": {
      "text/html": [
       "<div>\n",
       "<style scoped>\n",
       "    .dataframe tbody tr th:only-of-type {\n",
       "        vertical-align: middle;\n",
       "    }\n",
       "\n",
       "    .dataframe tbody tr th {\n",
       "        vertical-align: top;\n",
       "    }\n",
       "\n",
       "    .dataframe thead th {\n",
       "        text-align: right;\n",
       "    }\n",
       "</style>\n",
       "<table border=\"1\" class=\"dataframe\">\n",
       "  <thead>\n",
       "    <tr style=\"text-align: right;\">\n",
       "      <th></th>\n",
       "      <th>CustomerId</th>\n",
       "      <th>CreditScore</th>\n",
       "      <th>Gender</th>\n",
       "      <th>Age</th>\n",
       "      <th>Tenure</th>\n",
       "      <th>Balance</th>\n",
       "      <th>NumOfProducts</th>\n",
       "      <th>HasCrCard</th>\n",
       "      <th>IsActiveMember</th>\n",
       "      <th>EstimatedSalary</th>\n",
       "      <th>Exited</th>\n",
       "      <th>Geography_Germany</th>\n",
       "      <th>Geography_Spain</th>\n",
       "    </tr>\n",
       "  </thead>\n",
       "  <tbody>\n",
       "    <tr>\n",
       "      <th>0</th>\n",
       "      <td>15634602</td>\n",
       "      <td>619</td>\n",
       "      <td>0</td>\n",
       "      <td>42</td>\n",
       "      <td>2</td>\n",
       "      <td>0.00</td>\n",
       "      <td>1</td>\n",
       "      <td>1</td>\n",
       "      <td>1</td>\n",
       "      <td>101,348.88</td>\n",
       "      <td>1</td>\n",
       "      <td>0.00</td>\n",
       "      <td>0.00</td>\n",
       "    </tr>\n",
       "    <tr>\n",
       "      <th>1</th>\n",
       "      <td>15647311</td>\n",
       "      <td>608</td>\n",
       "      <td>0</td>\n",
       "      <td>41</td>\n",
       "      <td>1</td>\n",
       "      <td>83,807.86</td>\n",
       "      <td>1</td>\n",
       "      <td>0</td>\n",
       "      <td>1</td>\n",
       "      <td>112,542.58</td>\n",
       "      <td>0</td>\n",
       "      <td>0.00</td>\n",
       "      <td>1.00</td>\n",
       "    </tr>\n",
       "    <tr>\n",
       "      <th>2</th>\n",
       "      <td>15619304</td>\n",
       "      <td>502</td>\n",
       "      <td>0</td>\n",
       "      <td>42</td>\n",
       "      <td>8</td>\n",
       "      <td>159,660.80</td>\n",
       "      <td>3</td>\n",
       "      <td>1</td>\n",
       "      <td>0</td>\n",
       "      <td>113,931.57</td>\n",
       "      <td>1</td>\n",
       "      <td>0.00</td>\n",
       "      <td>0.00</td>\n",
       "    </tr>\n",
       "    <tr>\n",
       "      <th>3</th>\n",
       "      <td>15701354</td>\n",
       "      <td>699</td>\n",
       "      <td>0</td>\n",
       "      <td>39</td>\n",
       "      <td>1</td>\n",
       "      <td>0.00</td>\n",
       "      <td>2</td>\n",
       "      <td>0</td>\n",
       "      <td>0</td>\n",
       "      <td>93,826.63</td>\n",
       "      <td>0</td>\n",
       "      <td>0.00</td>\n",
       "      <td>0.00</td>\n",
       "    </tr>\n",
       "    <tr>\n",
       "      <th>4</th>\n",
       "      <td>15737888</td>\n",
       "      <td>850</td>\n",
       "      <td>0</td>\n",
       "      <td>43</td>\n",
       "      <td>2</td>\n",
       "      <td>125,510.82</td>\n",
       "      <td>1</td>\n",
       "      <td>1</td>\n",
       "      <td>1</td>\n",
       "      <td>79,084.10</td>\n",
       "      <td>0</td>\n",
       "      <td>0.00</td>\n",
       "      <td>1.00</td>\n",
       "    </tr>\n",
       "    <tr>\n",
       "      <th>...</th>\n",
       "      <td>...</td>\n",
       "      <td>...</td>\n",
       "      <td>...</td>\n",
       "      <td>...</td>\n",
       "      <td>...</td>\n",
       "      <td>...</td>\n",
       "      <td>...</td>\n",
       "      <td>...</td>\n",
       "      <td>...</td>\n",
       "      <td>...</td>\n",
       "      <td>...</td>\n",
       "      <td>...</td>\n",
       "      <td>...</td>\n",
       "    </tr>\n",
       "    <tr>\n",
       "      <th>9995</th>\n",
       "      <td>15606229</td>\n",
       "      <td>771</td>\n",
       "      <td>1</td>\n",
       "      <td>39</td>\n",
       "      <td>5</td>\n",
       "      <td>0.00</td>\n",
       "      <td>2</td>\n",
       "      <td>1</td>\n",
       "      <td>0</td>\n",
       "      <td>96,270.64</td>\n",
       "      <td>0</td>\n",
       "      <td>0.00</td>\n",
       "      <td>0.00</td>\n",
       "    </tr>\n",
       "    <tr>\n",
       "      <th>9996</th>\n",
       "      <td>15569892</td>\n",
       "      <td>516</td>\n",
       "      <td>1</td>\n",
       "      <td>35</td>\n",
       "      <td>10</td>\n",
       "      <td>57,369.61</td>\n",
       "      <td>1</td>\n",
       "      <td>1</td>\n",
       "      <td>1</td>\n",
       "      <td>101,699.77</td>\n",
       "      <td>0</td>\n",
       "      <td>0.00</td>\n",
       "      <td>0.00</td>\n",
       "    </tr>\n",
       "    <tr>\n",
       "      <th>9997</th>\n",
       "      <td>15584532</td>\n",
       "      <td>709</td>\n",
       "      <td>0</td>\n",
       "      <td>36</td>\n",
       "      <td>7</td>\n",
       "      <td>0.00</td>\n",
       "      <td>1</td>\n",
       "      <td>0</td>\n",
       "      <td>1</td>\n",
       "      <td>42,085.58</td>\n",
       "      <td>1</td>\n",
       "      <td>0.00</td>\n",
       "      <td>0.00</td>\n",
       "    </tr>\n",
       "    <tr>\n",
       "      <th>9998</th>\n",
       "      <td>15682355</td>\n",
       "      <td>772</td>\n",
       "      <td>1</td>\n",
       "      <td>42</td>\n",
       "      <td>3</td>\n",
       "      <td>75,075.31</td>\n",
       "      <td>2</td>\n",
       "      <td>1</td>\n",
       "      <td>0</td>\n",
       "      <td>92,888.52</td>\n",
       "      <td>1</td>\n",
       "      <td>1.00</td>\n",
       "      <td>0.00</td>\n",
       "    </tr>\n",
       "    <tr>\n",
       "      <th>9999</th>\n",
       "      <td>15628319</td>\n",
       "      <td>792</td>\n",
       "      <td>0</td>\n",
       "      <td>28</td>\n",
       "      <td>4</td>\n",
       "      <td>130,142.79</td>\n",
       "      <td>1</td>\n",
       "      <td>1</td>\n",
       "      <td>0</td>\n",
       "      <td>38,190.78</td>\n",
       "      <td>0</td>\n",
       "      <td>0.00</td>\n",
       "      <td>0.00</td>\n",
       "    </tr>\n",
       "  </tbody>\n",
       "</table>\n",
       "<p>10000 rows × 13 columns</p>\n",
       "</div>"
      ],
      "text/plain": [
       "      CustomerId  CreditScore  Gender  Age  Tenure    Balance  NumOfProducts  \\\n",
       "0       15634602          619       0   42       2       0.00              1   \n",
       "1       15647311          608       0   41       1  83,807.86              1   \n",
       "2       15619304          502       0   42       8 159,660.80              3   \n",
       "3       15701354          699       0   39       1       0.00              2   \n",
       "4       15737888          850       0   43       2 125,510.82              1   \n",
       "...          ...          ...     ...  ...     ...        ...            ...   \n",
       "9995    15606229          771       1   39       5       0.00              2   \n",
       "9996    15569892          516       1   35      10  57,369.61              1   \n",
       "9997    15584532          709       0   36       7       0.00              1   \n",
       "9998    15682355          772       1   42       3  75,075.31              2   \n",
       "9999    15628319          792       0   28       4 130,142.79              1   \n",
       "\n",
       "      HasCrCard  IsActiveMember  EstimatedSalary  Exited  Geography_Germany  \\\n",
       "0             1               1       101,348.88       1               0.00   \n",
       "1             0               1       112,542.58       0               0.00   \n",
       "2             1               0       113,931.57       1               0.00   \n",
       "3             0               0        93,826.63       0               0.00   \n",
       "4             1               1        79,084.10       0               0.00   \n",
       "...         ...             ...              ...     ...                ...   \n",
       "9995          1               0        96,270.64       0               0.00   \n",
       "9996          1               1       101,699.77       0               0.00   \n",
       "9997          0               1        42,085.58       1               0.00   \n",
       "9998          1               0        92,888.52       1               1.00   \n",
       "9999          1               0        38,190.78       0               0.00   \n",
       "\n",
       "      Geography_Spain  \n",
       "0                0.00  \n",
       "1                1.00  \n",
       "2                0.00  \n",
       "3                0.00  \n",
       "4                1.00  \n",
       "...               ...  \n",
       "9995             0.00  \n",
       "9996             0.00  \n",
       "9997             0.00  \n",
       "9998             0.00  \n",
       "9999             0.00  \n",
       "\n",
       "[10000 rows x 13 columns]"
      ]
     },
     "execution_count": 119,
     "metadata": {},
     "output_type": "execute_result"
    }
   ],
   "source": [
    "encoded_country = encoder.fit_transform(df[['Geography']])\n",
    "\n",
    "encoded_geo_df = pd.DataFrame(encoded_country, columns=encoder.get_feature_names_out(['Geography']))\n",
    "encoded_geo_df\n",
    "\n",
    "df_encoded = pd.concat([df, encoded_geo_df], axis=1).drop('Geography', axis=1)\n",
    "df_encoded"
   ]
  },
  {
   "cell_type": "markdown",
   "id": "dde4fd75",
   "metadata": {},
   "source": [
    "## 3.3 Splitting the data into train and validation sets <a id = '3.3'></a><br>"
   ]
  },
  {
   "cell_type": "code",
   "execution_count": 135,
   "id": "a113fe1f",
   "metadata": {},
   "outputs": [],
   "source": [
    "##\n",
    "x = df_encoded.drop([\"Exited\"], axis=1)\n",
    "target = df[\"Exited\"]\n",
    "x_train, x_val, y_train, y_val = train_test_split(x, target, test_size = 0.20, random_state = 0)\n",
    "\n",
    "val_ids = x_val['CustomerId']\n",
    "train_ids=x_train['CustomerId']\n",
    "\n",
    "x_train = x_train.drop(['CustomerId'], axis=1)\n",
    "x_val= x_val.drop(['CustomerId'], axis=1)\n",
    "\n",
    "df_train=df[df['CustomerId'].isin(train_ids)]\n",
    "df_val=df[df['CustomerId'].isin(val_ids)]"
   ]
  },
  {
   "cell_type": "code",
   "execution_count": 131,
   "id": "e24d8e90",
   "metadata": {},
   "outputs": [
    {
     "name": "stdout",
     "output_type": "stream",
     "text": [
      "Training set shape :  (8000, 10) \n",
      "\n",
      "Validation set shape :  (2000, 10)\n"
     ]
    }
   ],
   "source": [
    "print(\"Training set shape : \",x_train.shape,\"\\n\")\n",
    "print(\"Validation set shape : \", x_val.shape)"
   ]
  },
  {
   "cell_type": "markdown",
   "id": "7910cb30",
   "metadata": {},
   "source": [
    "# 4. Modeling, Evaluation and Model Tuning  <a id = '4'></a><br>"
   ]
  },
  {
   "cell_type": "markdown",
   "id": "121ffa4a",
   "metadata": {},
   "source": [
    "## 4.1 Validation Set Accuracy for the default models <a id = '4.1'></a><br>"
   ]
  },
  {
   "cell_type": "code",
   "execution_count": 150,
   "id": "ccfe5eec",
   "metadata": {},
   "outputs": [],
   "source": [
    "r=42\n",
    "models = [LogisticRegression(random_state=r),GaussianNB(), KNeighborsClassifier()\n",
    "          ,BaggingClassifier(random_state=r),DecisionTreeClassifier(random_state=r),\n",
    "          RandomForestClassifier(random_state=r), GradientBoostingClassifier(random_state=r),\n",
    "          XGBClassifier(random_state=r), MLPClassifier(random_state=r),\n",
    "          CatBoostClassifier(random_state=r,verbose = False)]\n",
    "names = [\"LogisticRegression\",\"GaussianNB\",\"KNN\",\"Bagging\",\n",
    "             \"DecisionTree\",\"Random_Forest\",\"GBM\",\"XGBoost\",\"Art.Neural_Network\",\"CatBoost\"]"
   ]
  },
  {
   "cell_type": "code",
   "execution_count": 151,
   "id": "85333939",
   "metadata": {},
   "outputs": [
    {
     "name": "stdout",
     "output_type": "stream",
     "text": [
      "Default model validation accuracies for the train data:\n",
      "\n",
      "LogisticRegression : 0.789\n",
      "GaussianNB : 0.785\n",
      "KNN : 0.764\n",
      "Bagging : 0.855\n",
      "DecisionTree : 0.797\n",
      "Random_Forest : 0.868\n",
      "GBM : 0.868\n",
      "XGBoost : 0.853\n",
      "Art.Neural_Network : 0.638\n",
      "CatBoost : 0.864\n"
     ]
    }
   ],
   "source": [
    "print('Default model validation accuracies for the train data:', end = \"\\n\\n\")\n",
    "for name, model in zip(names, models):\n",
    "    model.fit(x_train, y_train)\n",
    "    y_pred = model.predict(x_val) \n",
    "    print(name,':',\"%.3f\" % accuracy_score(y_pred, y_val))"
   ]
  },
  {
   "cell_type": "markdown",
   "id": "9dc98691",
   "metadata": {},
   "source": [
    "## 4.2 Cross validation accuracy and Standard Deviation of the default models for all the train data <a id = '4.2'></a><br>"
   ]
  },
  {
   "cell_type": "code",
   "execution_count": 152,
   "id": "5ff6237c",
   "metadata": {},
   "outputs": [],
   "source": [
    "predictors=pd.concat([x_train,x_val])"
   ]
  },
  {
   "cell_type": "code",
   "execution_count": 153,
   "id": "d4e930f0",
   "metadata": {},
   "outputs": [
    {
     "name": "stdout",
     "output_type": "stream",
     "text": [
      "5 fold Cross validation accuracy and std of the default models for the train data:\n",
      "\n",
      "LogisticRegression: 0.796 (0.007)\n",
      "GaussianNB: 0.796 (0.007)\n",
      "KNN: 0.757 (0.006)\n",
      "Bagging: 0.778 (0.004)\n",
      "DecisionTree: 0.667 (0.008)\n",
      "Random_Forest: 0.794 (0.007)\n",
      "GBM: 0.796 (0.007)\n",
      "XGBoost: 0.779 (0.009)\n",
      "Art.Neural_Network: 0.779 (0.022)\n",
      "CatBoost: 0.795 (0.007)\n"
     ]
    }
   ],
   "source": [
    "results = []\n",
    "print('5 fold Cross validation accuracy and std of the default models for the train data:', end = \"\\n\\n\")\n",
    "for name, model in zip(names, models):\n",
    "    kfold = KFold(n_splits=5)\n",
    "    cv_results = cross_val_score(model, predictors, target, cv = kfold, scoring = \"accuracy\")\n",
    "    results.append(cv_results)\n",
    "    print(\"{}: {} ({})\".format(name, \"%.3f\" % cv_results.mean() ,\"%.3f\" %  cv_results.std()))"
   ]
  },
  {
   "cell_type": "markdown",
   "id": "247c860c",
   "metadata": {},
   "source": [
    "## 4.3 Hyperparameter tuning using GridSearchCV <a id = '4.3'></a><br>"
   ]
  },
  {
   "cell_type": "code",
   "execution_count": 154,
   "id": "a6f1fe03",
   "metadata": {},
   "outputs": [],
   "source": [
    "# Input possible hyper parameters\n",
    "logreg_params= {\"C\":np.logspace(-1, 1, 10),\n",
    "                    \"penalty\": [\"l1\",\"l2\"], \"solver\":['lbfgs', 'liblinear', 'sag', 'saga'], \"max_iter\":[1000]}\n",
    "\n",
    "NB_params = {'var_smoothing': np.logspace(0,-9, num=100)}\n",
    "knn_params= {\"n_neighbors\": np.linspace(1,19,10, dtype = int).tolist(),\n",
    "                 \"weights\": [\"uniform\",\"distance\"],\n",
    "                 \"metric\":[\"euclidean\",\"manhattan\"]}\n",
    "bag_params={\"n_estimators\":[50,120,300]}\n",
    "dtree_params = {\"min_samples_split\" : range(10,500,20),\n",
    "                \"max_depth\": range(1,20,2)}\n",
    "rf_params = {\"max_features\": [\"log2\",\"auto\",\"sqrt\"],\n",
    "                \"min_samples_split\":[2,3,5],\n",
    "                \"min_samples_leaf\":[1,3,5],\n",
    "                \"bootstrap\":[True,False],\n",
    "                \"n_estimators\":[50,100,150],\n",
    "                \"criterion\":[\"gini\",\"entropy\"]}\n",
    "gbm_params = {\"learning_rate\" : [0.001, 0.01, 0.1],\n",
    "             \"n_estimators\": [100,500],\n",
    "             \"max_depth\": [3,10],\n",
    "             \"min_samples_split\": [2,10]}\n",
    "\n",
    "xgb_params ={\n",
    "        'n_estimators': [50, 100, 200],\n",
    "        'subsample': [ 0.6,  1.0],\n",
    "        'max_depth': [1,2,4],\n",
    "        'learning_rate': [0.1, 0.3, 0.5],\n",
    "        \"min_samples_split\": [1,4,6]}\n",
    "\n",
    "mlpc_params = {\"alpha\": [0.1, 0.01, 0.0001],\n",
    "              \"hidden_layer_sizes\": [(10,10),\n",
    "                                     (100,100),\n",
    "                                     (100),\n",
    "                                     (3,5), \n",
    "                                     (5, 3)],\n",
    "              \"solver\" : [\"lbfgs\",\"adam\"],\"max_iter\":[1000]}\n",
    "catb_params =  {'depth':[2, 3, 4],\n",
    "              'loss_function': ['Logloss', 'CrossEntropy'],\n",
    "              'l2_leaf_reg':np.arange(2,31)}\n",
    "classifier_params = [logreg_params,NB_params,knn_params,bag_params,dtree_params,rf_params,\n",
    "                     gbm_params, xgb_params,mlpc_params,catb_params]               \n",
    "                  "
   ]
  },
  {
   "cell_type": "code",
   "execution_count": 156,
   "id": "968f8734",
   "metadata": {},
   "outputs": [
    {
     "name": "stdout",
     "output_type": "stream",
     "text": [
      ">Model tuning... LogisticRegression cross validation accuracy : 0.812\n",
      "Done! Elapsed time: 31.60 seconds.\n",
      ">Model tuning... GaussianNB cross validation accuracy : 0.796\n",
      "Done! Elapsed time: 1.02 seconds.\n",
      ">Model tuning... KNN cross validation accuracy : 0.792\n",
      "Done! Elapsed time: 2.30 seconds.\n",
      ">Model tuning... Bagging cross validation accuracy : 0.853\n",
      "Done! Elapsed time: 30.34 seconds.\n",
      ">Model tuning... DecisionTree cross validation accuracy : 0.859\n",
      "Done! Elapsed time: 5.59 seconds.\n",
      ">Model tuning... Random_Forest cross validation accuracy : 0.864\n",
      "Done! Elapsed time: 246.78 seconds.\n",
      ">Model tuning... GBM cross validation accuracy : 0.863\n",
      "Done! Elapsed time: 179.23 seconds.\n",
      ">Model tuning... XGBoost cross validation accuracy : 0.864\n",
      "Done! Elapsed time: 12.12 seconds.\n",
      ">Model tuning... Art.Neural_Network cross validation accuracy : 0.796\n",
      "Done! Elapsed time: 23.82 seconds.\n",
      ">Model tuning... CatBoost cross validation accuracy : 0.865\n",
      "Done! Elapsed time: 818.71 seconds.\n"
     ]
    }
   ],
   "source": [
    "# Tuning by GridSearchCV\n",
    "cv_result = {}\n",
    "best_estimators = {}\n",
    "for name, model,classifier_param in zip(names, models,classifier_params):\n",
    "    with timer(\">Model tuning\"):\n",
    "        clf = GridSearchCV(model, param_grid=classifier_param, cv =5, scoring = \"accuracy\", n_jobs = -1,verbose = False)\n",
    "        clf.fit(x_train,y_train)\n",
    "        cv_result[name]=clf.best_score_\n",
    "        best_estimators[name]=clf.best_estimator_\n",
    "        print(name,'cross validation accuracy : %.3f'%cv_result[name])"
   ]
  },
  {
   "cell_type": "code",
   "execution_count": 148,
   "id": "71ee1358",
   "metadata": {},
   "outputs": [],
   "source": [
    "from contextlib import contextmanager\n",
    "\n",
    "# Define a context manager function for measuring elapsed time\n",
    "@contextmanager\n",
    "def timer(message):\n",
    "    print(f\"{message}... \", end='', flush=True)\n",
    "    start_time = time.time()\n",
    "    yield\n",
    "    end_time = time.time()\n",
    "    elapsed_time = end_time - start_time\n",
    "    print(f\"Done! Elapsed time: {elapsed_time:.2f} seconds.\", flush=True)\n"
   ]
  },
  {
   "cell_type": "code",
   "execution_count": 158,
   "id": "aeb75e7e",
   "metadata": {},
   "outputs": [
    {
     "name": "stdout",
     "output_type": "stream",
     "text": [
      "Validation accuracies of the tuned models for the train data:\n",
      "\n",
      "LogisticRegression : 0.815\n",
      "GaussianNB : 0.797\n",
      "KNN : 0.795\n",
      "Bagging : 0.863\n",
      "DecisionTree : 0.864\n",
      "Random_Forest : 0.871\n",
      "GBM : 0.868\n",
      "XGBoost : 0.867\n",
      "Art.Neural_Network : 0.797\n",
      "CatBoost : 0.867\n"
     ]
    }
   ],
   "source": [
    "accuracies={}\n",
    "print('Validation accuracies of the tuned models for the train data:', end = \"\\n\\n\")\n",
    "for name, model_tuned in zip(best_estimators.keys(),best_estimators.values()):\n",
    "    y_pred =  model_tuned.fit(x_train,y_train).predict(x_val)\n",
    "    accuracy=accuracy_score(y_pred, y_val)\n",
    "    print(name,':', \"%.3f\" %accuracy)\n",
    "    accuracies[name]=accuracy"
   ]
  },
  {
   "cell_type": "markdown",
   "id": "56ef548e",
   "metadata": {},
   "source": [
    "## 4.4 Ensembling the best 3 models <a id = '4.4'></a><br>"
   ]
  },
  {
   "cell_type": "code",
   "execution_count": 159,
   "id": "125348c9",
   "metadata": {},
   "outputs": [],
   "source": [
    "n=3\n",
    "accu=sorted(accuracies, reverse=True, key= lambda k:accuracies[k])[:n]\n",
    "firstn=[[k,v] for k,v in best_estimators.items() if k in accu]"
   ]
  },
  {
   "cell_type": "code",
   "execution_count": 160,
   "id": "0590db5e",
   "metadata": {},
   "outputs": [
    {
     "name": "stdout",
     "output_type": "stream",
     "text": [
      "0.8675\n"
     ]
    }
   ],
   "source": [
    "# Ensembling First n Score\n",
    "\n",
    "votingC = VotingClassifier(estimators = firstn, voting = \"soft\", n_jobs = -1)\n",
    "votingC = votingC.fit(x_train, y_train)\n",
    "print(accuracy_score(votingC.predict(x_val),y_val))"
   ]
  },
  {
   "cell_type": "markdown",
   "id": "03d6b540",
   "metadata": {},
   "source": [
    "We see that our Bagging, Random_Forest, XGBoost as well as CatBoost Classifiers all achieve an accuracy of more than <strong>86%</strong>, outclassing (pun intended) many other models. Whereas our ensemble model which uses three of our best models also manages to reach an accuracy of <strong>86.75%</strong>."
   ]
  },
  {
   "cell_type": "markdown",
   "id": "ff5863fb",
   "metadata": {},
   "source": [
    "## 5. Finding the most important factors indicative of customer churn<a id = '5'></a><br>"
   ]
  },
  {
   "cell_type": "code",
   "execution_count": 201,
   "id": "2abf15a1",
   "metadata": {
    "scrolled": true
   },
   "outputs": [
    {
     "data": {
      "text/html": [
       "<div>\n",
       "<style scoped>\n",
       "    .dataframe tbody tr th:only-of-type {\n",
       "        vertical-align: middle;\n",
       "    }\n",
       "\n",
       "    .dataframe tbody tr th {\n",
       "        vertical-align: top;\n",
       "    }\n",
       "\n",
       "    .dataframe thead th {\n",
       "        text-align: right;\n",
       "    }\n",
       "</style>\n",
       "<table border=\"1\" class=\"dataframe\">\n",
       "  <thead>\n",
       "    <tr style=\"text-align: right;\">\n",
       "      <th></th>\n",
       "      <th>0</th>\n",
       "      <th>0</th>\n",
       "    </tr>\n",
       "  </thead>\n",
       "  <tbody>\n",
       "    <tr>\n",
       "      <th>0</th>\n",
       "      <td>CreditScore</td>\n",
       "      <td>0.12</td>\n",
       "    </tr>\n",
       "    <tr>\n",
       "      <th>1</th>\n",
       "      <td>Gender</td>\n",
       "      <td>0.02</td>\n",
       "    </tr>\n",
       "    <tr>\n",
       "      <th>2</th>\n",
       "      <td>Age</td>\n",
       "      <td>0.26</td>\n",
       "    </tr>\n",
       "    <tr>\n",
       "      <th>3</th>\n",
       "      <td>Tenure</td>\n",
       "      <td>0.07</td>\n",
       "    </tr>\n",
       "    <tr>\n",
       "      <th>4</th>\n",
       "      <td>Balance</td>\n",
       "      <td>0.14</td>\n",
       "    </tr>\n",
       "    <tr>\n",
       "      <th>5</th>\n",
       "      <td>NumOfProducts</td>\n",
       "      <td>0.16</td>\n",
       "    </tr>\n",
       "    <tr>\n",
       "      <th>6</th>\n",
       "      <td>HasCrCard</td>\n",
       "      <td>0.02</td>\n",
       "    </tr>\n",
       "    <tr>\n",
       "      <th>7</th>\n",
       "      <td>IsActiveMember</td>\n",
       "      <td>0.04</td>\n",
       "    </tr>\n",
       "    <tr>\n",
       "      <th>8</th>\n",
       "      <td>EstimatedSalary</td>\n",
       "      <td>0.13</td>\n",
       "    </tr>\n",
       "    <tr>\n",
       "      <th>9</th>\n",
       "      <td>Geography_Germany</td>\n",
       "      <td>0.03</td>\n",
       "    </tr>\n",
       "    <tr>\n",
       "      <th>10</th>\n",
       "      <td>Geography_Spain</td>\n",
       "      <td>0.01</td>\n",
       "    </tr>\n",
       "  </tbody>\n",
       "</table>\n",
       "</div>"
      ],
      "text/plain": [
       "                    0    0\n",
       "0         CreditScore 0.12\n",
       "1              Gender 0.02\n",
       "2                 Age 0.26\n",
       "3              Tenure 0.07\n",
       "4             Balance 0.14\n",
       "5       NumOfProducts 0.16\n",
       "6           HasCrCard 0.02\n",
       "7      IsActiveMember 0.04\n",
       "8     EstimatedSalary 0.13\n",
       "9   Geography_Germany 0.03\n",
       "10    Geography_Spain 0.01"
      ]
     },
     "execution_count": 201,
     "metadata": {},
     "output_type": "execute_result"
    }
   ],
   "source": [
    "feats = firstn[0][1]\n",
    "col = x_train.columns\n",
    "col_df = pd.DataFrame(col)\n",
    "feature_importances = feats.feature_importances_\n",
    "feat_df = pd.DataFrame(feature_importances)\n",
    "feature_weights = concatenated_df = pd.concat([col_df, feat_df], axis=1)\n",
    "feature_weights"
   ]
  },
  {
   "cell_type": "markdown",
   "id": "f204015b",
   "metadata": {},
   "source": [
    "We see that <strong>age, number of products used, balance, and estimated salary</strong> are the most important factors that make a difference in whether a customer will churn or not. Hence the bank should focus on keeping trackers on how exactly these affect customers and take required measures to minimize customer attrition"
   ]
  }
 ],
 "metadata": {
  "kernelspec": {
   "display_name": "Python 3 (ipykernel)",
   "language": "python",
   "name": "python3"
  },
  "language_info": {
   "codemirror_mode": {
    "name": "ipython",
    "version": 3
   },
   "file_extension": ".py",
   "mimetype": "text/x-python",
   "name": "python",
   "nbconvert_exporter": "python",
   "pygments_lexer": "ipython3",
   "version": "3.11.5"
  }
 },
 "nbformat": 4,
 "nbformat_minor": 5
}
